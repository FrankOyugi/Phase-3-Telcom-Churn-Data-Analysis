{
 "cells": [
  {
   "cell_type": "markdown",
   "metadata": {},
   "source": [
    "Student Name: Frank Oyugi  \n",
    "Supervisor: Maryann Mwikali  \n",
    "Sudent pace: Full Time Hybrid"
   ]
  },
  {
   "attachments": {},
   "cell_type": "markdown",
   "metadata": {},
   "source": [
    "## Overview"
   ]
  },
  {
   "cell_type": "markdown",
   "metadata": {},
   "source": [
    "The telecommunication sector is a dynamic industry characterized by network infrastructure,technological innovation and global connectivity.However,customers may switch from one telecommunication service to another or they may discontinue the service altogether,a phenomenon called 'Telecom churn'.Telecom churn analysis is a crucial aspect of business intelligence for telecommunication companies as it helps them understand why customers are leaving and what actions can be taken to reduce churn rates.In this project,we are looking to provide predictive and actionable insights regarding likely churn candidates at the telecommunications company SyriaTel. We hope to create a complex model that can predict likely churn candidates as well as the features that impact churn the most.\n"
   ]
  },
  {
   "cell_type": "markdown",
   "metadata": {},
   "source": [
    "## Business Understanding"
   ]
  },
  {
   "cell_type": "markdown",
   "metadata": {},
   "source": [
    "The primary goal of this project is to to unlock actionable insights that will empower SyriaTel to implement targeted strategies to mitigate customer churn, ultimately fostering long-term business sustainability.To achieve this objective we need to develop a model that can identify the key factors influencing telecom churn. To effectively train this model the client requires precise and representative data related to the customers of this telecommunications company.  \n",
    "Once trained the model will be capable of providing accurate predictions on whether customers will churn or not.  \n",
    "#### Research Questions  \n",
    "1.Which features of the SyriaTel dataset are the most significant predictors of customer churn?  \n",
    "2.How do various models differ in their ability to predict customer churn?  \n",
    "3.How can SyriaTel mitigate customer churn?\n"
   ]
  },
  {
   "cell_type": "markdown",
   "metadata": {},
   "source": [
    "## Data Understanding"
   ]
  },
  {
   "cell_type": "markdown",
   "metadata": {},
   "source": [
    "The dataset used in this project was sourced from Kaggle (https://www.kaggle.com/datasets/becksddf/churn-in-telecoms-dataset).  \n",
    "Some of the columns that have been used in the dataset include:  \n",
    "1.State.  \n",
    "2.Account length.  \n",
    "3.Area Code.  \n",
    "4.Phone Number.  \n",
    "5.International plan.  \n",
    "6.Voice mail plan.  \n",
    "7.Total day calls.  \n",
    "8.Total day minutes.  \n",
    "9.Total day charge.  \n",
    "10.Total night calls.  \n",
    "11.Total night minutes.  \n",
    "12.Total night charge.  \n",
    "13.Total international calls.  \n",
    "14.Total international minutes.  \n",
    "15.Total international charge.  \n",
    "16.Customer service calls.  \n",
    "17.Total eve calls.  \n",
    "18.Total eve minutes.  \n",
    "19.Total eve charge.  \n",
    "20.Number of voice mail messages."
   ]
  },
  {
   "cell_type": "code",
   "execution_count": null,
   "metadata": {},
   "outputs": [],
   "source": []
  }
 ],
 "metadata": {
  "kernelspec": {
   "display_name": "Python 3 (ipykernel)",
   "language": "python",
   "name": "python3"
  },
  "language_info": {
   "codemirror_mode": {
    "name": "ipython",
    "version": 3
   },
   "file_extension": ".py",
   "mimetype": "text/x-python",
   "name": "python",
   "nbconvert_exporter": "python",
   "pygments_lexer": "ipython3",
   "version": "3.11.5"
  }
 },
 "nbformat": 4,
 "nbformat_minor": 4
}
